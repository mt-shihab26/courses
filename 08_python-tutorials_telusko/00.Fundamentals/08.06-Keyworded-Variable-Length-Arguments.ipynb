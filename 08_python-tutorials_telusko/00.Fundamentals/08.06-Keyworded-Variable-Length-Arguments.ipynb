{
 "cells": [
  {
   "cell_type": "code",
   "execution_count": 1,
   "metadata": {},
   "outputs": [
    {
     "name": "stdout",
     "output_type": "stream",
     "text": [
      "<class 'dict'>\n",
      "{'name': 'Shihab', 'age': '18', 'city': 'Fadirpur'}\n",
      "name : Shihab\n",
      "age : 18\n",
      "city : Fadirpur\n"
     ]
    }
   ],
   "source": [
    "def person(**data):\n",
    "    print(type(data))\n",
    "    print(data)\n",
    "    \n",
    "    for key, value in data.items():\n",
    "        print(key, \":\", value)\n",
    "\n",
    "person(name=\"Shihab\", age=\"18\", city=\"Fadirpur\")"
   ]
  }
 ],
 "metadata": {
  "interpreter": {
   "hash": "797b1828ee7a2bbba5856472efe5576c1858f8fefcbd02016014a5bbc9acb37d"
  },
  "kernelspec": {
   "display_name": "Python 3.10.0 64-bit ('.venv': venv)",
   "language": "python",
   "name": "python3"
  },
  "language_info": {
   "codemirror_mode": {
    "name": "ipython",
    "version": 3
   },
   "file_extension": ".py",
   "mimetype": "text/x-python",
   "name": "python",
   "nbconvert_exporter": "python",
   "pygments_lexer": "ipython3",
   "version": "3.10.0"
  },
  "orig_nbformat": 4
 },
 "nbformat": 4,
 "nbformat_minor": 2
}
