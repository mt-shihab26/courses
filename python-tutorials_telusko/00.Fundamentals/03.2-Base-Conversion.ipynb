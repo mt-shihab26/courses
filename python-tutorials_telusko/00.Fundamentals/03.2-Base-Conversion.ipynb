{
 "cells": [
  {
   "cell_type": "markdown",
   "metadata": {},
   "source": [
    "# Base Conversion"
   ]
  },
  {
   "cell_type": "code",
   "execution_count": 1,
   "metadata": {},
   "outputs": [
    {
     "name": "stdout",
     "output_type": "stream",
     "text": [
      "0b11001\n",
      "25\n"
     ]
    }
   ],
   "source": [
    "b = bin(25) # decimal to binary\n",
    "print(b)\n",
    "a = 0b11001 # binary to decimal\n",
    "print(a)"
   ]
  },
  {
   "cell_type": "code",
   "execution_count": 2,
   "metadata": {},
   "outputs": [
    {
     "name": "stdout",
     "output_type": "stream",
     "text": [
      "0o31\n",
      "25\n"
     ]
    }
   ],
   "source": [
    "o = oct(25)\n",
    "print(o)\n",
    "a = 0o31\n",
    "print(a)"
   ]
  },
  {
   "cell_type": "code",
   "execution_count": 3,
   "metadata": {},
   "outputs": [
    {
     "name": "stdout",
     "output_type": "stream",
     "text": [
      "0x1e\n",
      "0x1e\n",
      "30\n",
      "30\n"
     ]
    }
   ],
   "source": [
    "h = hex(30)\n",
    "print(h)\n",
    "a = h\n",
    "print(a)\n",
    "a = 0x1e\n",
    "print(a)\n",
    "b = int(h, 16)\n",
    "print(a)"
   ]
  }
 ],
 "metadata": {
  "interpreter": {
   "hash": "a3fab4302a5a7c7dbca1a3f8233bd6c2546edff4d08fdefe50a98eb673df13fa"
  },
  "kernelspec": {
   "display_name": "Python 3.10.1 64-bit ('.venv': venv)",
   "language": "python",
   "name": "python3"
  },
  "language_info": {
   "codemirror_mode": {
    "name": "ipython",
    "version": 3
   },
   "file_extension": ".py",
   "mimetype": "text/x-python",
   "name": "python",
   "nbconvert_exporter": "python",
   "pygments_lexer": "ipython3",
   "version": "3.10.1"
  },
  "orig_nbformat": 4
 },
 "nbformat": 4,
 "nbformat_minor": 2
}
