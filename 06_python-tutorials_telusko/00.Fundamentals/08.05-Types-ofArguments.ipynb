{
 "cells": [
  {
   "cell_type": "markdown",
   "metadata": {},
   "source": [
    "# Types of Arguments"
   ]
  },
  {
   "cell_type": "markdown",
   "metadata": {},
   "source": [
    "* Formal Arguments\n",
    "* Actual Arguments\n",
    "    * Position\n",
    "    * Keyword\n",
    "    * Default\n",
    "    * Variable Length"
   ]
  },
  {
   "cell_type": "markdown",
   "metadata": {},
   "source": [
    "## Actural Arguments"
   ]
  },
  {
   "cell_type": "markdown",
   "metadata": {},
   "source": [
    "### Position Arguments"
   ]
  },
  {
   "cell_type": "code",
   "execution_count": 1,
   "metadata": {},
   "outputs": [
    {
     "name": "stdout",
     "output_type": "stream",
     "text": [
      "shihab 18\n"
     ]
    }
   ],
   "source": [
    "def person(name, age):\n",
    "    print(name, age)\n",
    "\n",
    "person(\"shihab\", 18)"
   ]
  },
  {
   "cell_type": "markdown",
   "metadata": {},
   "source": [
    "### Keyword Argument"
   ]
  },
  {
   "cell_type": "code",
   "execution_count": 2,
   "metadata": {},
   "outputs": [
    {
     "name": "stdout",
     "output_type": "stream",
     "text": [
      "Shihab 13\n"
     ]
    }
   ],
   "source": [
    "def person(name, age):\n",
    "    print(name, age - 5)\n",
    "\n",
    "person(age=18, name=\"Shihab\")"
   ]
  },
  {
   "cell_type": "markdown",
   "metadata": {},
   "source": [
    "### Defaults Arguments"
   ]
  },
  {
   "cell_type": "code",
   "execution_count": 3,
   "metadata": {},
   "outputs": [
    {
     "name": "stdout",
     "output_type": "stream",
     "text": [
      "shihab 15\n",
      "Shihab 18\n"
     ]
    }
   ],
   "source": [
    "def person(name, age=15):\n",
    "    print(name, age)\n",
    "\n",
    "person(\"shihab\")\n",
    "person(\"Shihab\", 18)"
   ]
  },
  {
   "cell_type": "markdown",
   "metadata": {},
   "source": [
    "### Variable Length Arguments"
   ]
  },
  {
   "cell_type": "code",
   "execution_count": 4,
   "metadata": {},
   "outputs": [
    {
     "name": "stdout",
     "output_type": "stream",
     "text": [
      "<class 'tuple'>\n",
      "674\n"
     ]
    }
   ],
   "source": [
    "def sum(*x):\n",
    "    print(type(x))\n",
    "    sm = 0\n",
    "    for i in x:\n",
    "        sm += i\n",
    "    return sm\n",
    "\n",
    "print(sum(12, 32, 34, 34, 556, 6))"
   ]
  }
 ],
 "metadata": {
  "interpreter": {
   "hash": "797b1828ee7a2bbba5856472efe5576c1858f8fefcbd02016014a5bbc9acb37d"
  },
  "kernelspec": {
   "display_name": "Python 3.10.0 64-bit ('.venv': venv)",
   "language": "python",
   "name": "python3"
  },
  "language_info": {
   "codemirror_mode": {
    "name": "ipython",
    "version": 3
   },
   "file_extension": ".py",
   "mimetype": "text/x-python",
   "name": "python",
   "nbconvert_exporter": "python",
   "pygments_lexer": "ipython3",
   "version": "3.10.0"
  },
  "orig_nbformat": 4
 },
 "nbformat": 4,
 "nbformat_minor": 2
}
